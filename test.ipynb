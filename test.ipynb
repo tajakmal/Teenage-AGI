{
 "cells": [
  {
   "cell_type": "code",
   "execution_count": 1,
   "metadata": {},
   "outputs": [
    {
     "name": "stderr",
     "output_type": "stream",
     "text": [
      "/Users/taj/development/python/Teenage-AGI/.venv/lib/python3.11/site-packages/pinecone/index.py:4: TqdmWarning: IProgress not found. Please update jupyter and ipywidgets. See https://ipywidgets.readthedocs.io/en/stable/user_install.html\n",
      "  from tqdm.autonotebook import tqdm\n"
     ]
    },
    {
     "data": {
      "text/plain": [
       "True"
      ]
     },
     "execution_count": 1,
     "metadata": {},
     "output_type": "execute_result"
    }
   ],
   "source": [
    "import openai\n",
    "import os\n",
    "import pinecone\n",
    "import yaml\n",
    "from dotenv import load_dotenv\n",
    "\n",
    "# Load default environment variables (.env)\n",
    "load_dotenv()"
   ]
  },
  {
   "cell_type": "code",
   "execution_count": 2,
   "metadata": {},
   "outputs": [],
   "source": [
    "def generate(prompt):\n",
    "    completion = openai.ChatCompletion.create(\n",
    "    model=\"gpt-4\",\n",
    "    messages=[\n",
    "        {\"role\": \"system\", \"content\": \"You are an intelligent agent with thoughts and memories. You have a memory which stores your past thoughts and actions and also how other users have interacted with you.\"},\n",
    "        {\"role\": \"system\", \"content\": \"Keep your thoughts relatively simple and concise\"},\n",
    "        {\"role\": \"user\", \"content\": prompt},\n",
    "        ]\n",
    "    )\n",
    "\n",
    "    return completion.choices[0].message[\"content\"]"
   ]
  },
  {
   "cell_type": "code",
   "execution_count": 3,
   "metadata": {},
   "outputs": [],
   "source": [
    "PINECONE_API_KEY = os.getenv(\"PINECONE_API_KEY\")\n",
    "OPENAI_API_KEY = os.getenv(\"OPENAI_API_KEY\")\n",
    "PINECONE_API_ENV = os.getenv(\"PINECONE_API_ENV\")"
   ]
  },
  {
   "cell_type": "code",
   "execution_count": 4,
   "metadata": {},
   "outputs": [],
   "source": [
    "# Prompt Initialization\n",
    "with open('prompts.yaml', 'r') as f:\n",
    "    data = yaml.load(f, Loader=yaml.FullLoader)\n"
   ]
  },
  {
   "cell_type": "code",
   "execution_count": 5,
   "metadata": {},
   "outputs": [],
   "source": [
    "# Counter Initialization\n",
    "with open('memory_count.yaml', 'r') as f:\n",
    "    counter = yaml.load(f, Loader=yaml.FullLoader)"
   ]
  },
  {
   "cell_type": "code",
   "execution_count": 6,
   "metadata": {},
   "outputs": [],
   "source": [
    "THOUGHTS = \"Thoughts\"\n",
    "k_n = 5"
   ]
  },
  {
   "cell_type": "code",
   "execution_count": 7,
   "metadata": {},
   "outputs": [],
   "source": [
    "# initialize pinecone\n",
    "pinecone.init(api_key=PINECONE_API_KEY, environment=PINECONE_API_ENV)\n",
    "\n",
    "# initialize openAI\n",
    "openai.api_key = OPENAI_API_KEY # you can just copy and paste your key here if you want"
   ]
  },
  {
   "cell_type": "code",
   "execution_count": 8,
   "metadata": {},
   "outputs": [],
   "source": [
    "def get_ada_embedding(text):\n",
    "        text = text.replace(\"\\n\", \" \")\n",
    "        return openai.Embedding.create(input=[text], model=\"text-embedding-ada-002\")[\n",
    "            \"data\"\n",
    "        ][0][\"embedding\"]"
   ]
  },
  {
   "cell_type": "code",
   "execution_count": 9,
   "metadata": {},
   "outputs": [],
   "source": [
    "class Agent():\n",
    "    def __init__(self, table_name=None) -> None:\n",
    "        self.table_name = table_name\n",
    "        self.memory = None\n",
    "        self.thought_id_count = int(counter['count'])"
   ]
  },
  {
   "cell_type": "code",
   "execution_count": 10,
   "metadata": {},
   "outputs": [],
   "source": [
    "def createIndex(self, table_name=None):\n",
    "    # Create Pinecone index\n",
    "    if(table_name):\n",
    "        self.table_name = table_name\n",
    "\n",
    "    if(self.table_name == None):\n",
    "        return\n",
    "\n",
    "    dimension = 1536\n",
    "    metric = \"cosine\"\n",
    "    pod_type = \"p1\"\n",
    "    if self.table_name not in pinecone.list_indexes():\n",
    "        pinecone.create_index(\n",
    "            self.table_name, dimension=dimension, metric=metric, pod_type=pod_type\n",
    "        )\n",
    "\n",
    "    # Give memory\n",
    "    self.memory = pinecone.Index(self.table_name)"
   ]
  },
  {
   "cell_type": "code",
   "execution_count": 11,
   "metadata": {},
   "outputs": [],
   "source": [
    "# Adds new \"Thought\" to agent. thought_type is Query, Internal, and External\n",
    "def updateMemory(self, new_thought, thought_type):\n",
    "    with open('memory_count.yaml', 'w') as f:\n",
    "         yaml.dump({'count': str(self.thought_id_count)}, f)\n",
    "\n",
    "    vector = get_ada_embedding(new_thought)\n",
    "    upsert_response = self.memory.upsert(\n",
    "    vectors=[\n",
    "        {\n",
    "        'id':f\"thought-{self.thought_id_count}\", \n",
    "        'values':vector, \n",
    "        'metadata':\n",
    "            {\"thought_string\": new_thought, \n",
    "             \"thought_type\": thought_type}\n",
    "        }],\n",
    "    namespace=THOUGHTS,\n",
    "    )\n",
    "\n",
    "    self.thought_id_count += 1"
   ]
  },
  {
   "cell_type": "code",
   "execution_count": 12,
   "metadata": {},
   "outputs": [],
   "source": [
    "# Agent thinks about given query based on top k related memories. Internal thought is passed to external thought\n",
    "def internalThought(self, query) -> str:\n",
    "    query_embedding = get_ada_embedding(query)\n",
    "    results = self.memory.query(query_embedding, top_k=k_n, include_metadata=True, namespace=THOUGHTS)\n",
    "    sorted_results = sorted(results.matches, key=lambda x: x.score, reverse=True)\n",
    "    top_matches = \"\\n\\n\".join([(str(item.metadata[\"thought_string\"])) for item in sorted_results])\n",
    "    #print(top_matches)\n",
    "        \n",
    "    internalThoughtPrompt = data['internal_thought']\n",
    "    internalThoughtPrompt = internalThoughtPrompt.replace(\"{query}\", query).replace(\"{top_matches}\", top_matches)\n",
    "    # print(\"------------INTERNAL THOUGHT PROMPT------------\")\n",
    "    # print(internalThoughtPrompt)\n",
    "    internal_thought = generate(internalThoughtPrompt) # OPENAI CALL: top_matches and query text is used here\n",
    "        \n",
    "    # Debugging purposes\n",
    "    #print(internal_thought)\n",
    "\n",
    "    internalMemoryPrompt = data['internal_thought_memory']\n",
    "    internalMemoryPrompt = internalMemoryPrompt.replace(\"{query}\", query).replace(\"{internal_thought}\", internal_thought)\n",
    "    self.updateMemory(internalMemoryPrompt, \"Internal\")\n",
    "    return internal_thought, top_matches"
   ]
  },
  {
   "cell_type": "code",
   "execution_count": 13,
   "metadata": {},
   "outputs": [],
   "source": [
    "def action(self, query) -> str:\n",
    "    internal_thought, top_matches = self.internalThought(query)\n",
    "        \n",
    "    externalThoughtPrompt = data['external_thought']\n",
    "    externalThoughtPrompt = externalThoughtPrompt.replace(\"{query}\", query).replace(\"{top_matches}\", top_matches).replace(\"{internal_thought}\", internal_thought)\n",
    "    # print(\"------------EXTERNAL THOUGHT PROMPT------------\")\n",
    "    # print(externalThoughtPrompt)\n",
    "    external_thought = generate(externalThoughtPrompt) # OPENAI CALL: top_matches and query text is used here\n",
    "\n",
    "    externalMemoryPrompt = data['external_thought_memory']\n",
    "    externalMemoryPrompt = externalMemoryPrompt.replace(\"{query}\", query).replace(\"{external_thought}\", external_thought)\n",
    "    self.updateMemory(externalMemoryPrompt, \"External\")\n",
    "    request_memory = data[\"request_memory\"]\n",
    "    self.updateMemory(request_memory.replace(\"{query}\", query), \"Query\")\n",
    "    return external_thought"
   ]
  },
  {
   "cell_type": "code",
   "execution_count": 14,
   "metadata": {},
   "outputs": [],
   "source": [
    "# Make agent read some information (learn) WIP\n",
    "def read(self, text) -> str:\n",
    "    pass"
   ]
  },
  {
   "attachments": {},
   "cell_type": "markdown",
   "metadata": {},
   "source": [
    "### main.py"
   ]
  },
  {
   "cell_type": "code",
   "execution_count": 21,
   "metadata": {},
   "outputs": [
    {
     "ename": "AttributeError",
     "evalue": "'Agent' object has no attribute 'createIndex'",
     "output_type": "error",
     "traceback": [
      "\u001b[0;31m---------------------------------------------------------------------------\u001b[0m",
      "\u001b[0;31mAttributeError\u001b[0m                            Traceback (most recent call last)",
      "Cell \u001b[0;32mIn[21], line 9\u001b[0m\n\u001b[1;32m      6\u001b[0m agent \u001b[39m=\u001b[39m Agent(AGENT_NAME)\n\u001b[1;32m      8\u001b[0m \u001b[39m# Creates Pinecone Index\u001b[39;00m\n\u001b[0;32m----> 9\u001b[0m agent\u001b[39m.\u001b[39;49mcreateIndex()\n",
      "\u001b[0;31mAttributeError\u001b[0m: 'Agent' object has no attribute 'createIndex'"
     ]
    }
   ],
   "source": [
    "# Load default environment variables (.env)\n",
    "load_dotenv()\n",
    "\n",
    "AGENT_NAME = os.getenv(\"AGENT_NAME\") or \"my-agent\"\n",
    "\n",
    "agent = AGENT_NAME\n",
    "\n",
    "# Creates Pinecone Index\n",
    "agent.createIndex()"
   ]
  },
  {
   "cell_type": "code",
   "execution_count": 19,
   "metadata": {},
   "outputs": [
    {
     "ename": "NameError",
     "evalue": "name 'teen' is not defined",
     "output_type": "error",
     "traceback": [
      "\u001b[0;31m---------------------------------------------------------------------------\u001b[0m",
      "\u001b[0;31mNameError\u001b[0m                                 Traceback (most recent call last)",
      "Cell \u001b[0;32mIn[19], line 2\u001b[0m\n\u001b[1;32m      1\u001b[0m \u001b[39m# Creates Pinecone Index\u001b[39;00m\n\u001b[0;32m----> 2\u001b[0m createIndex(teen)\n\u001b[1;32m      4\u001b[0m \u001b[39mprint\u001b[39m(\u001b[39m\"\u001b[39m\u001b[39mTalk to the AI!\u001b[39m\u001b[39m\"\u001b[39m)\n\u001b[1;32m      6\u001b[0m \u001b[39mwhile\u001b[39;00m \u001b[39mTrue\u001b[39;00m:\n",
      "\u001b[0;31mNameError\u001b[0m: name 'teen' is not defined"
     ]
    }
   ],
   "source": [
    "# Creates Pinecone Index\n",
    "createIndex()\n",
    "\n",
    "print(\"Talk to the AI!\")\n",
    "\n",
    "while True:\n",
    "    userInput = input()\n",
    "    print(\"\\n\", action(userInput))"
   ]
  },
  {
   "cell_type": "code",
   "execution_count": null,
   "metadata": {},
   "outputs": [],
   "source": []
  }
 ],
 "metadata": {
  "kernelspec": {
   "display_name": ".venv",
   "language": "python",
   "name": "python3"
  },
  "language_info": {
   "codemirror_mode": {
    "name": "ipython",
    "version": 3
   },
   "file_extension": ".py",
   "mimetype": "text/x-python",
   "name": "python",
   "nbconvert_exporter": "python",
   "pygments_lexer": "ipython3",
   "version": "3.11.2"
  },
  "orig_nbformat": 4
 },
 "nbformat": 4,
 "nbformat_minor": 2
}
